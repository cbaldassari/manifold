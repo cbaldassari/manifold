{
  "cells": [
    {
      "cell_type": "markdown",
      "metadata": {
        "id": "view-in-github",
        "colab_type": "text"
      },
      "source": [
        "<a href=\"https://colab.research.google.com/github/cbaldassari/manifold/blob/main/Paper6_step3_c_total.ipynb\" target=\"_parent\"><img src=\"https://colab.research.google.com/assets/colab-badge.svg\" alt=\"Open In Colab\"/></a>"
      ]
    },
    {
      "cell_type": "code",
      "execution_count": null,
      "metadata": {
        "colab": {
          "base_uri": "https://localhost:8080/"
        },
        "id": "3lR4tDUjjt49",
        "outputId": "a1f23a8f-dafd-4644-b22e-d0cc8beb2ae9"
      },
      "outputs": [
        {
          "name": "stdout",
          "output_type": "stream",
          "text": [
            "Mounted at /content/drive\n"
          ]
        }
      ],
      "source": [
        "from google.colab import drive\n",
        "drive.mount('/content/drive')"
      ]
    },
    {
      "cell_type": "code",
      "execution_count": null,
      "metadata": {
        "id": "poC_pByZj3zI"
      },
      "outputs": [],
      "source": [
        "%%capture\n",
        "!pip install community\n",
        "!pip install python-louvain\n",
        "!pip install tsia\n",
        "!pip install easydev\n",
        "!pip install colormap\n",
        "!pip install tomaster\n",
        "!pip install ts2vg\n",
        "!pip install karateclub\n",
        "!pip install POT\n",
        "!pip install XlsxWriter\n",
        "!pip install umap-learn\n",
        "!pip install trimap\n",
        "!pip install pacmap"
      ]
    },
    {
      "cell_type": "code",
      "execution_count": null,
      "metadata": {
        "id": "jnCtm5XPj7rK"
      },
      "outputs": [],
      "source": [
        "%%capture\n",
        "import pandas as pd\n",
        "import numpy as np\n",
        "import statsmodels.api as sm\n",
        "import datetime\n",
        "from sklearn import mixture\n",
        "from sklearn.preprocessing import MinMaxScaler\n",
        "import matplotlib.pyplot as plt\n",
        "from scipy.stats import skew\n",
        "from scipy.stats import kurtosis\n",
        "from tqdm import tqdm\n",
        "import xlsxwriter\n",
        "\n",
        "import os\n",
        "import sys\n",
        "import seaborn as sns\n",
        "\n",
        "import pickle\n",
        "\n",
        "from matplotlib import gridspec\n",
        "from numba import njit, prange\n",
        "from pyts.image import MarkovTransitionField\n",
        "\n",
        "import tsia.plot\n",
        "import tsia.markov\n",
        "import tsia.network_graph\n",
        "\n",
        "import community\n",
        "from community import community_louvain\n",
        "import networkx as nx\n",
        "\n",
        "from matplotlib.colors import to_hex\n",
        "\n",
        "from sklearn.mixture import GaussianMixture\n",
        "import numpy as np\n",
        "from scipy.stats import kurtosis, skew\n",
        "\n",
        "import csv\n",
        "from colormap import rgb2hex\n",
        "from tomaster import tomato\n",
        "\n",
        "import seaborn as sns\n",
        "from pickle import FALSE\n",
        "import scipy\n",
        "\n",
        "from ts2vg import NaturalVG\n",
        "from ts2vg import HorizontalVG\n",
        "import networkx as nxg\n",
        "import uuid\n",
        "from joblib import dump, load\n",
        "\n",
        "\n",
        "# import libraries\n",
        "import scipy.linalg as spl\n",
        "import scipy.stats as sps\n",
        "%matplotlib inline\n",
        "\n",
        "# Optimal Transport library https://github.com/rflamary/POT\n",
        "import ot\n",
        "import ot.plot\n",
        "\n",
        "# for interactive widgets\n",
        "#from ipywidgets import interact, interactive, fixed, interact_manual\n",
        "\n",
        "#import ipdb\n",
        "\n",
        "from karateclub import ASNE\n",
        "from karateclub import Diff2Vec\n",
        "from karateclub import GraphWave\n",
        "from karateclub import Role2Vec\n",
        "from karateclub import NEU\n",
        "from karateclub import NetLSD\n",
        "import scipy\n",
        "from scipy import sparse\n",
        "from scipy.sparse import csr_matrix\n",
        "\n",
        "from sklearn.preprocessing import StandardScaler\n",
        "import datetime\n",
        "#from missingpy import MissForest\n",
        "\n",
        "# Author: Remi Flamary <remi.flamary@unice.fr>\n",
        "#\n",
        "# License: MIT License\n",
        "\n",
        "# sphinx_gallery_thumbnail_number = 4\n",
        "\n",
        "import matplotlib.pylab as plt\n",
        "import ot\n",
        "# necessary for 3d plot even if not used\n",
        "from mpl_toolkits.mplot3d import Axes3D  # noqa\n",
        "from matplotlib.collections import PolyCollection  # noqa\n",
        "\n",
        "import ot.lp.cvx as cvx\n",
        "import umap\n",
        "import random\n",
        "from karateclub import FeatherGraph\n",
        "from karateclub import Graph2Vec\n",
        "\n",
        "from sklearn.manifold import TSNE\n",
        "from sklearn.decomposition import PCA\n",
        "import trimap\n",
        "import pacmap\n",
        "\n",
        "import plotly\n",
        "import plotly.express as px\n",
        "import matplotlib.pyplot as plt"
      ]
    },
    {
      "cell_type": "code",
      "execution_count": null,
      "metadata": {
        "id": "Z0xHPz939Xwy"
      },
      "outputs": [],
      "source": [
        "def find_between_r( s, first, last ):\n",
        "    try:\n",
        "        start = s.rindex( first ) + len( first )\n",
        "        end = s.rindex( last, start )\n",
        "        return s[start:end]\n",
        "    except ValueError:\n",
        "        return \"\""
      ]
    },
    {
      "cell_type": "code",
      "execution_count": null,
      "metadata": {
        "id": "C2grmJL29hv9"
      },
      "outputs": [],
      "source": [
        "ret=pd.read_excel(\"/content/drive/MyDrive/Mari/Paper6/data/chartData/r.xlsx\")"
      ]
    },
    {
      "cell_type": "code",
      "execution_count": null,
      "metadata": {
        "colab": {
          "base_uri": "https://localhost:8080/",
          "height": 424
        },
        "id": "9JSlhxHl90JH",
        "outputId": "728488bf-5d80-49e5-d8d9-8df68fd929d1"
      },
      "outputs": [
        {
          "data": {
            "text/html": [
              "\n",
              "  <div id=\"df-98974148-ea42-4211-9517-790818c92f2b\" class=\"colab-df-container\">\n",
              "    <div>\n",
              "<style scoped>\n",
              "    .dataframe tbody tr th:only-of-type {\n",
              "        vertical-align: middle;\n",
              "    }\n",
              "\n",
              "    .dataframe tbody tr th {\n",
              "        vertical-align: top;\n",
              "    }\n",
              "\n",
              "    .dataframe thead th {\n",
              "        text-align: right;\n",
              "    }\n",
              "</style>\n",
              "<table border=\"1\" class=\"dataframe\">\n",
              "  <thead>\n",
              "    <tr style=\"text-align: right;\">\n",
              "      <th></th>\n",
              "      <th>Date</th>\n",
              "      <th>sp15</th>\n",
              "      <th>nepool</th>\n",
              "      <th>paloverde</th>\n",
              "      <th>pjm</th>\n",
              "      <th>spx</th>\n",
              "      <th>gas</th>\n",
              "      <th>oil</th>\n",
              "      <th>term1m</th>\n",
              "      <th>term6m</th>\n",
              "      <th>term1Yr</th>\n",
              "      <th>term5Yr</th>\n",
              "      <th>term7Yr</th>\n",
              "      <th>term10Yr</th>\n",
              "      <th>term20Yr</th>\n",
              "    </tr>\n",
              "  </thead>\n",
              "  <tbody>\n",
              "    <tr>\n",
              "      <th>0</th>\n",
              "      <td>2018-01-02</td>\n",
              "      <td>0.002401</td>\n",
              "      <td>0.010021</td>\n",
              "      <td>0.001237</td>\n",
              "      <td>-0.001735</td>\n",
              "      <td>-0.002511</td>\n",
              "      <td>0.043193</td>\n",
              "      <td>-0.007775</td>\n",
              "      <td>-0.001991</td>\n",
              "      <td>-0.002497</td>\n",
              "      <td>-0.002297</td>\n",
              "      <td>-0.002560</td>\n",
              "      <td>-0.000562</td>\n",
              "      <td>0.000872</td>\n",
              "      <td>0.002383</td>\n",
              "    </tr>\n",
              "    <tr>\n",
              "      <th>1</th>\n",
              "      <td>2018-01-03</td>\n",
              "      <td>0.101075</td>\n",
              "      <td>-0.063223</td>\n",
              "      <td>0.125052</td>\n",
              "      <td>-0.148206</td>\n",
              "      <td>0.006649</td>\n",
              "      <td>0.000776</td>\n",
              "      <td>0.019837</td>\n",
              "      <td>-0.009481</td>\n",
              "      <td>-0.003174</td>\n",
              "      <td>-0.001977</td>\n",
              "      <td>-0.002658</td>\n",
              "      <td>-0.006730</td>\n",
              "      <td>-0.008828</td>\n",
              "      <td>-0.010753</td>\n",
              "    </tr>\n",
              "    <tr>\n",
              "      <th>2</th>\n",
              "      <td>2018-01-04</td>\n",
              "      <td>-0.333518</td>\n",
              "      <td>0.453358</td>\n",
              "      <td>-0.360329</td>\n",
              "      <td>0.751175</td>\n",
              "      <td>0.004550</td>\n",
              "      <td>-0.293345</td>\n",
              "      <td>0.005489</td>\n",
              "      <td>0.007160</td>\n",
              "      <td>0.000429</td>\n",
              "      <td>0.001210</td>\n",
              "      <td>0.008836</td>\n",
              "      <td>0.005259</td>\n",
              "      <td>0.000006</td>\n",
              "      <td>-0.002332</td>\n",
              "    </tr>\n",
              "    <tr>\n",
              "      <th>3</th>\n",
              "      <td>2018-01-05</td>\n",
              "      <td>0.025210</td>\n",
              "      <td>-0.725798</td>\n",
              "      <td>-0.124469</td>\n",
              "      <td>-1.531996</td>\n",
              "      <td>0.006985</td>\n",
              "      <td>0.118992</td>\n",
              "      <td>-0.008439</td>\n",
              "      <td>-0.007294</td>\n",
              "      <td>-0.001370</td>\n",
              "      <td>-0.001345</td>\n",
              "      <td>0.007400</td>\n",
              "      <td>0.008342</td>\n",
              "      <td>0.008846</td>\n",
              "      <td>0.008219</td>\n",
              "    </tr>\n",
              "    <tr>\n",
              "      <th>4</th>\n",
              "      <td>2018-01-06</td>\n",
              "      <td>0.051920</td>\n",
              "      <td>0.281240</td>\n",
              "      <td>0.122001</td>\n",
              "      <td>0.710973</td>\n",
              "      <td>-0.001460</td>\n",
              "      <td>-0.196571</td>\n",
              "      <td>0.001933</td>\n",
              "      <td>0.000750</td>\n",
              "      <td>-0.002110</td>\n",
              "      <td>-0.002014</td>\n",
              "      <td>-0.003805</td>\n",
              "      <td>-0.003330</td>\n",
              "      <td>-0.002736</td>\n",
              "      <td>-0.001862</td>\n",
              "    </tr>\n",
              "    <tr>\n",
              "      <th>...</th>\n",
              "      <td>...</td>\n",
              "      <td>...</td>\n",
              "      <td>...</td>\n",
              "      <td>...</td>\n",
              "      <td>...</td>\n",
              "      <td>...</td>\n",
              "      <td>...</td>\n",
              "      <td>...</td>\n",
              "      <td>...</td>\n",
              "      <td>...</td>\n",
              "      <td>...</td>\n",
              "      <td>...</td>\n",
              "      <td>...</td>\n",
              "      <td>...</td>\n",
              "      <td>...</td>\n",
              "    </tr>\n",
              "    <tr>\n",
              "      <th>1820</th>\n",
              "      <td>2022-12-27</td>\n",
              "      <td>-0.047023</td>\n",
              "      <td>-0.007514</td>\n",
              "      <td>-0.050224</td>\n",
              "      <td>-0.222984</td>\n",
              "      <td>0.003369</td>\n",
              "      <td>-0.026433</td>\n",
              "      <td>0.003499</td>\n",
              "      <td>-0.011673</td>\n",
              "      <td>-0.001514</td>\n",
              "      <td>0.000195</td>\n",
              "      <td>0.001701</td>\n",
              "      <td>0.001244</td>\n",
              "      <td>0.001050</td>\n",
              "      <td>0.002620</td>\n",
              "    </tr>\n",
              "    <tr>\n",
              "      <th>1821</th>\n",
              "      <td>2022-12-28</td>\n",
              "      <td>0.036134</td>\n",
              "      <td>0.005859</td>\n",
              "      <td>0.036807</td>\n",
              "      <td>0.229624</td>\n",
              "      <td>-0.012469</td>\n",
              "      <td>-0.180384</td>\n",
              "      <td>-0.005596</td>\n",
              "      <td>0.018695</td>\n",
              "      <td>-0.000990</td>\n",
              "      <td>-0.003407</td>\n",
              "      <td>0.006312</td>\n",
              "      <td>0.009248</td>\n",
              "      <td>0.011206</td>\n",
              "      <td>0.006031</td>\n",
              "    </tr>\n",
              "    <tr>\n",
              "      <th>1822</th>\n",
              "      <td>2022-12-29</td>\n",
              "      <td>-0.005518</td>\n",
              "      <td>-0.000871</td>\n",
              "      <td>-0.006813</td>\n",
              "      <td>0.003288</td>\n",
              "      <td>0.017877</td>\n",
              "      <td>-0.067886</td>\n",
              "      <td>-0.004369</td>\n",
              "      <td>0.011366</td>\n",
              "      <td>0.000121</td>\n",
              "      <td>0.002149</td>\n",
              "      <td>-0.009176</td>\n",
              "      <td>-0.014314</td>\n",
              "      <td>-0.017779</td>\n",
              "      <td>-0.017959</td>\n",
              "    </tr>\n",
              "    <tr>\n",
              "      <th>1823</th>\n",
              "      <td>2022-12-30</td>\n",
              "      <td>-0.005567</td>\n",
              "      <td>-0.000898</td>\n",
              "      <td>-0.006882</td>\n",
              "      <td>0.003266</td>\n",
              "      <td>-0.002602</td>\n",
              "      <td>-0.067695</td>\n",
              "      <td>0.023299</td>\n",
              "      <td>-0.025799</td>\n",
              "      <td>-0.000878</td>\n",
              "      <td>0.006831</td>\n",
              "      <td>0.013690</td>\n",
              "      <td>0.015955</td>\n",
              "      <td>0.015132</td>\n",
              "      <td>0.016936</td>\n",
              "    </tr>\n",
              "    <tr>\n",
              "      <th>1824</th>\n",
              "      <td>2022-12-31</td>\n",
              "      <td>-0.005614</td>\n",
              "      <td>-0.000926</td>\n",
              "      <td>-0.006950</td>\n",
              "      <td>0.003245</td>\n",
              "      <td>-0.001209</td>\n",
              "      <td>0.075858</td>\n",
              "      <td>-0.006548</td>\n",
              "      <td>-0.001236</td>\n",
              "      <td>-0.004420</td>\n",
              "      <td>-0.006194</td>\n",
              "      <td>-0.005546</td>\n",
              "      <td>-0.005905</td>\n",
              "      <td>-0.005469</td>\n",
              "      <td>-0.005499</td>\n",
              "    </tr>\n",
              "  </tbody>\n",
              "</table>\n",
              "<p>1825 rows × 15 columns</p>\n",
              "</div>\n",
              "    <div class=\"colab-df-buttons\">\n",
              "\n",
              "  <div class=\"colab-df-container\">\n",
              "    <button class=\"colab-df-convert\" onclick=\"convertToInteractive('df-98974148-ea42-4211-9517-790818c92f2b')\"\n",
              "            title=\"Convert this dataframe to an interactive table.\"\n",
              "            style=\"display:none;\">\n",
              "\n",
              "  <svg xmlns=\"http://www.w3.org/2000/svg\" height=\"24px\" viewBox=\"0 -960 960 960\">\n",
              "    <path d=\"M120-120v-720h720v720H120Zm60-500h600v-160H180v160Zm220 220h160v-160H400v160Zm0 220h160v-160H400v160ZM180-400h160v-160H180v160Zm440 0h160v-160H620v160ZM180-180h160v-160H180v160Zm440 0h160v-160H620v160Z\"/>\n",
              "  </svg>\n",
              "    </button>\n",
              "\n",
              "  <style>\n",
              "    .colab-df-container {\n",
              "      display:flex;\n",
              "      gap: 12px;\n",
              "    }\n",
              "\n",
              "    .colab-df-convert {\n",
              "      background-color: #E8F0FE;\n",
              "      border: none;\n",
              "      border-radius: 50%;\n",
              "      cursor: pointer;\n",
              "      display: none;\n",
              "      fill: #1967D2;\n",
              "      height: 32px;\n",
              "      padding: 0 0 0 0;\n",
              "      width: 32px;\n",
              "    }\n",
              "\n",
              "    .colab-df-convert:hover {\n",
              "      background-color: #E2EBFA;\n",
              "      box-shadow: 0px 1px 2px rgba(60, 64, 67, 0.3), 0px 1px 3px 1px rgba(60, 64, 67, 0.15);\n",
              "      fill: #174EA6;\n",
              "    }\n",
              "\n",
              "    .colab-df-buttons div {\n",
              "      margin-bottom: 4px;\n",
              "    }\n",
              "\n",
              "    [theme=dark] .colab-df-convert {\n",
              "      background-color: #3B4455;\n",
              "      fill: #D2E3FC;\n",
              "    }\n",
              "\n",
              "    [theme=dark] .colab-df-convert:hover {\n",
              "      background-color: #434B5C;\n",
              "      box-shadow: 0px 1px 3px 1px rgba(0, 0, 0, 0.15);\n",
              "      filter: drop-shadow(0px 1px 2px rgba(0, 0, 0, 0.3));\n",
              "      fill: #FFFFFF;\n",
              "    }\n",
              "  </style>\n",
              "\n",
              "    <script>\n",
              "      const buttonEl =\n",
              "        document.querySelector('#df-98974148-ea42-4211-9517-790818c92f2b button.colab-df-convert');\n",
              "      buttonEl.style.display =\n",
              "        google.colab.kernel.accessAllowed ? 'block' : 'none';\n",
              "\n",
              "      async function convertToInteractive(key) {\n",
              "        const element = document.querySelector('#df-98974148-ea42-4211-9517-790818c92f2b');\n",
              "        const dataTable =\n",
              "          await google.colab.kernel.invokeFunction('convertToInteractive',\n",
              "                                                    [key], {});\n",
              "        if (!dataTable) return;\n",
              "\n",
              "        const docLinkHtml = 'Like what you see? Visit the ' +\n",
              "          '<a target=\"_blank\" href=https://colab.research.google.com/notebooks/data_table.ipynb>data table notebook</a>'\n",
              "          + ' to learn more about interactive tables.';\n",
              "        element.innerHTML = '';\n",
              "        dataTable['output_type'] = 'display_data';\n",
              "        await google.colab.output.renderOutput(dataTable, element);\n",
              "        const docLink = document.createElement('div');\n",
              "        docLink.innerHTML = docLinkHtml;\n",
              "        element.appendChild(docLink);\n",
              "      }\n",
              "    </script>\n",
              "  </div>\n",
              "\n",
              "\n",
              "<div id=\"df-c6b8073b-befa-4f43-9332-7e8535d321ce\">\n",
              "  <button class=\"colab-df-quickchart\" onclick=\"quickchart('df-c6b8073b-befa-4f43-9332-7e8535d321ce')\"\n",
              "            title=\"Suggest charts\"\n",
              "            style=\"display:none;\">\n",
              "\n",
              "<svg xmlns=\"http://www.w3.org/2000/svg\" height=\"24px\"viewBox=\"0 0 24 24\"\n",
              "     width=\"24px\">\n",
              "    <g>\n",
              "        <path d=\"M19 3H5c-1.1 0-2 .9-2 2v14c0 1.1.9 2 2 2h14c1.1 0 2-.9 2-2V5c0-1.1-.9-2-2-2zM9 17H7v-7h2v7zm4 0h-2V7h2v10zm4 0h-2v-4h2v4z\"/>\n",
              "    </g>\n",
              "</svg>\n",
              "  </button>\n",
              "\n",
              "<style>\n",
              "  .colab-df-quickchart {\n",
              "      --bg-color: #E8F0FE;\n",
              "      --fill-color: #1967D2;\n",
              "      --hover-bg-color: #E2EBFA;\n",
              "      --hover-fill-color: #174EA6;\n",
              "      --disabled-fill-color: #AAA;\n",
              "      --disabled-bg-color: #DDD;\n",
              "  }\n",
              "\n",
              "  [theme=dark] .colab-df-quickchart {\n",
              "      --bg-color: #3B4455;\n",
              "      --fill-color: #D2E3FC;\n",
              "      --hover-bg-color: #434B5C;\n",
              "      --hover-fill-color: #FFFFFF;\n",
              "      --disabled-bg-color: #3B4455;\n",
              "      --disabled-fill-color: #666;\n",
              "  }\n",
              "\n",
              "  .colab-df-quickchart {\n",
              "    background-color: var(--bg-color);\n",
              "    border: none;\n",
              "    border-radius: 50%;\n",
              "    cursor: pointer;\n",
              "    display: none;\n",
              "    fill: var(--fill-color);\n",
              "    height: 32px;\n",
              "    padding: 0;\n",
              "    width: 32px;\n",
              "  }\n",
              "\n",
              "  .colab-df-quickchart:hover {\n",
              "    background-color: var(--hover-bg-color);\n",
              "    box-shadow: 0 1px 2px rgba(60, 64, 67, 0.3), 0 1px 3px 1px rgba(60, 64, 67, 0.15);\n",
              "    fill: var(--button-hover-fill-color);\n",
              "  }\n",
              "\n",
              "  .colab-df-quickchart-complete:disabled,\n",
              "  .colab-df-quickchart-complete:disabled:hover {\n",
              "    background-color: var(--disabled-bg-color);\n",
              "    fill: var(--disabled-fill-color);\n",
              "    box-shadow: none;\n",
              "  }\n",
              "\n",
              "  .colab-df-spinner {\n",
              "    border: 2px solid var(--fill-color);\n",
              "    border-color: transparent;\n",
              "    border-bottom-color: var(--fill-color);\n",
              "    animation:\n",
              "      spin 1s steps(1) infinite;\n",
              "  }\n",
              "\n",
              "  @keyframes spin {\n",
              "    0% {\n",
              "      border-color: transparent;\n",
              "      border-bottom-color: var(--fill-color);\n",
              "      border-left-color: var(--fill-color);\n",
              "    }\n",
              "    20% {\n",
              "      border-color: transparent;\n",
              "      border-left-color: var(--fill-color);\n",
              "      border-top-color: var(--fill-color);\n",
              "    }\n",
              "    30% {\n",
              "      border-color: transparent;\n",
              "      border-left-color: var(--fill-color);\n",
              "      border-top-color: var(--fill-color);\n",
              "      border-right-color: var(--fill-color);\n",
              "    }\n",
              "    40% {\n",
              "      border-color: transparent;\n",
              "      border-right-color: var(--fill-color);\n",
              "      border-top-color: var(--fill-color);\n",
              "    }\n",
              "    60% {\n",
              "      border-color: transparent;\n",
              "      border-right-color: var(--fill-color);\n",
              "    }\n",
              "    80% {\n",
              "      border-color: transparent;\n",
              "      border-right-color: var(--fill-color);\n",
              "      border-bottom-color: var(--fill-color);\n",
              "    }\n",
              "    90% {\n",
              "      border-color: transparent;\n",
              "      border-bottom-color: var(--fill-color);\n",
              "    }\n",
              "  }\n",
              "</style>\n",
              "\n",
              "  <script>\n",
              "    async function quickchart(key) {\n",
              "      const quickchartButtonEl =\n",
              "        document.querySelector('#' + key + ' button');\n",
              "      quickchartButtonEl.disabled = true;  // To prevent multiple clicks.\n",
              "      quickchartButtonEl.classList.add('colab-df-spinner');\n",
              "      try {\n",
              "        const charts = await google.colab.kernel.invokeFunction(\n",
              "            'suggestCharts', [key], {});\n",
              "      } catch (error) {\n",
              "        console.error('Error during call to suggestCharts:', error);\n",
              "      }\n",
              "      quickchartButtonEl.classList.remove('colab-df-spinner');\n",
              "      quickchartButtonEl.classList.add('colab-df-quickchart-complete');\n",
              "    }\n",
              "    (() => {\n",
              "      let quickchartButtonEl =\n",
              "        document.querySelector('#df-c6b8073b-befa-4f43-9332-7e8535d321ce button');\n",
              "      quickchartButtonEl.style.display =\n",
              "        google.colab.kernel.accessAllowed ? 'block' : 'none';\n",
              "    })();\n",
              "  </script>\n",
              "</div>\n",
              "    </div>\n",
              "  </div>\n"
            ],
            "text/plain": [
              "           Date      sp15    nepool  paloverde       pjm       spx       gas  \\\n",
              "0    2018-01-02  0.002401  0.010021   0.001237 -0.001735 -0.002511  0.043193   \n",
              "1    2018-01-03  0.101075 -0.063223   0.125052 -0.148206  0.006649  0.000776   \n",
              "2    2018-01-04 -0.333518  0.453358  -0.360329  0.751175  0.004550 -0.293345   \n",
              "3    2018-01-05  0.025210 -0.725798  -0.124469 -1.531996  0.006985  0.118992   \n",
              "4    2018-01-06  0.051920  0.281240   0.122001  0.710973 -0.001460 -0.196571   \n",
              "...         ...       ...       ...        ...       ...       ...       ...   \n",
              "1820 2022-12-27 -0.047023 -0.007514  -0.050224 -0.222984  0.003369 -0.026433   \n",
              "1821 2022-12-28  0.036134  0.005859   0.036807  0.229624 -0.012469 -0.180384   \n",
              "1822 2022-12-29 -0.005518 -0.000871  -0.006813  0.003288  0.017877 -0.067886   \n",
              "1823 2022-12-30 -0.005567 -0.000898  -0.006882  0.003266 -0.002602 -0.067695   \n",
              "1824 2022-12-31 -0.005614 -0.000926  -0.006950  0.003245 -0.001209  0.075858   \n",
              "\n",
              "           oil    term1m    term6m   term1Yr   term5Yr   term7Yr  term10Yr  \\\n",
              "0    -0.007775 -0.001991 -0.002497 -0.002297 -0.002560 -0.000562  0.000872   \n",
              "1     0.019837 -0.009481 -0.003174 -0.001977 -0.002658 -0.006730 -0.008828   \n",
              "2     0.005489  0.007160  0.000429  0.001210  0.008836  0.005259  0.000006   \n",
              "3    -0.008439 -0.007294 -0.001370 -0.001345  0.007400  0.008342  0.008846   \n",
              "4     0.001933  0.000750 -0.002110 -0.002014 -0.003805 -0.003330 -0.002736   \n",
              "...        ...       ...       ...       ...       ...       ...       ...   \n",
              "1820  0.003499 -0.011673 -0.001514  0.000195  0.001701  0.001244  0.001050   \n",
              "1821 -0.005596  0.018695 -0.000990 -0.003407  0.006312  0.009248  0.011206   \n",
              "1822 -0.004369  0.011366  0.000121  0.002149 -0.009176 -0.014314 -0.017779   \n",
              "1823  0.023299 -0.025799 -0.000878  0.006831  0.013690  0.015955  0.015132   \n",
              "1824 -0.006548 -0.001236 -0.004420 -0.006194 -0.005546 -0.005905 -0.005469   \n",
              "\n",
              "      term20Yr  \n",
              "0     0.002383  \n",
              "1    -0.010753  \n",
              "2    -0.002332  \n",
              "3     0.008219  \n",
              "4    -0.001862  \n",
              "...        ...  \n",
              "1820  0.002620  \n",
              "1821  0.006031  \n",
              "1822 -0.017959  \n",
              "1823  0.016936  \n",
              "1824 -0.005499  \n",
              "\n",
              "[1825 rows x 15 columns]"
            ]
          },
          "execution_count": 6,
          "metadata": {},
          "output_type": "execute_result"
        }
      ],
      "source": [
        "ret"
      ]
    },
    {
      "cell_type": "code",
      "execution_count": null,
      "metadata": {
        "id": "5DmDS1cu-wsb"
      },
      "outputs": [],
      "source": [
        "ret1=ret[[\"sp15\",\"paloverde\",\"nepool\",\"gas\",\"oil\",\"term6m\"]]"
      ]
    },
    {
      "cell_type": "code",
      "execution_count": null,
      "metadata": {
        "id": "uRDPo4Gmm47z"
      },
      "outputs": [],
      "source": [
        "from sklearn.preprocessing import MinMaxScaler\n",
        "scaler = MinMaxScaler()\n",
        "scaler.fit(ret1)\n",
        "ret1 = pd.DataFrame(scaler.transform(ret1), columns = ret1.columns)"
      ]
    },
    {
      "cell_type": "code",
      "execution_count": null,
      "metadata": {
        "id": "DNrRPXKa8eqv"
      },
      "outputs": [],
      "source": []
    },
    {
      "cell_type": "code",
      "execution_count": null,
      "metadata": {
        "colab": {
          "base_uri": "https://localhost:8080/"
        },
        "id": "qYOOL70O9rGb",
        "outputId": "4493403a-22e7-4374-efb4-cf82542ab6c2"
      },
      "outputs": [
        {
          "name": "stderr",
          "output_type": "stream",
          "text": [
            "/usr/local/lib/python3.10/dist-packages/ot/lp/cvx.py:125: OptimizeWarning: Sparse constraint matrix detected; setting 'sparse':True.\n",
            "  sol = sp.optimize.linprog(c, A_eq=A_eq, b_eq=b_eq, method=solver,\n"
          ]
        },
        {
          "name": "stdout",
          "output_type": "stream",
          "text": [
            "Elapsed time : 27.843918800354004 s\n"
          ]
        },
        {
          "data": {
            "text/plain": [
              "27.843918800354004"
            ]
          },
          "execution_count": 9,
          "metadata": {},
          "output_type": "execute_result"
        }
      ],
      "source": [
        "n = 100\n",
        "\n",
        "x = np.arange(n, dtype=np.float64)\n",
        "distout=[]\n",
        "labelsc=[]\n",
        "a=[]\n",
        "for (columnName, columnData) in ret1.iteritems():\n",
        "  histogram, bins = np.histogram(columnData, bins=n, range=(0, 1), density=True)\n",
        "  a.append(histogram)\n",
        "  labelsc.append(columnName)\n",
        "\n",
        "A = np.vstack((a)).T\n",
        "M = ot.utils.dist0(n)\n",
        "M /= M.max()\n",
        "\n",
        "ot.tic()\n",
        "bary_wass2_c1 = ot.lp.barycenter(A, M, solver='interior-point', verbose=False)\n",
        "ot.toc()"
      ]
    },
    {
      "cell_type": "code",
      "execution_count": null,
      "metadata": {
        "colab": {
          "base_uri": "https://localhost:8080/"
        },
        "id": "YaXqbdksBXaU",
        "outputId": "51a716e6-fff4-49f8-dc56-4635565fddb3"
      },
      "outputs": [
        {
          "data": {
            "text/plain": [
              "(6,)"
            ]
          },
          "execution_count": 10,
          "metadata": {},
          "output_type": "execute_result"
        }
      ],
      "source": [
        "cols=ret1.columns\n",
        "cols.shape"
      ]
    },
    {
      "cell_type": "code",
      "execution_count": null,
      "metadata": {
        "id": "lGWWTx_WBili"
      },
      "outputs": [],
      "source": [
        "c=0\n",
        "dik={}\n",
        "for i in labelsc:\n",
        "  dik[i]=A[:, c]\n",
        "  c+=1"
      ]
    },
    {
      "cell_type": "code",
      "execution_count": null,
      "metadata": {
        "colab": {
          "base_uri": "https://localhost:8080/",
          "height": 487
        },
        "id": "TVk7puaWBili",
        "outputId": "ddb0f0c7-5085-4026-9a0c-eb219db01544"
      },
      "outputs": [
        {
          "data": {
            "image/png": "[encoded data removed]",
            "text/plain": [
              "<Figure size 640x480 with 2 Axes>"
            ]
          },
          "metadata": {},
          "output_type": "display_data"
        }
      ],
      "source": [
        "plt.figure(2)\n",
        "plt.clf()\n",
        "\n",
        "plt.subplot(2, 1, 1)\n",
        "for k, v in dik.items():\n",
        "    plt.plot(bins[:-1], v, label=k)  # Use the label parameter to set the plot names\n",
        "    plt.legend()  # Add legend based on the labels\n",
        "\n",
        "plt.subplot(2, 1, 2)\n",
        "plt.plot(bins[:-1], bary_wass2_c1, 'b')\n",
        "\n",
        "plt.tight_layout()\n",
        "plt.show()"
      ]
    },
    {
      "cell_type": "code",
      "execution_count": null,
      "metadata": {
        "id": "Spjg09G38jX_"
      },
      "outputs": [],
      "source": []
    },
    {
      "cell_type": "code",
      "execution_count": null,
      "metadata": {
        "id": "N8gPRQ7m8jVI"
      },
      "outputs": [],
      "source": []
    },
    {
      "cell_type": "code",
      "execution_count": null,
      "metadata": {
        "colab": {
          "base_uri": "https://localhost:8080/"
        },
        "id": "a8QdVnEF8nWu",
        "outputId": "f4b050b3-2f0f-4481-c6b9-2beadc70a798"
      },
      "outputs": [
        {
          "name": "stdout",
          "output_type": "stream",
          "text": [
            "Elapsed time : 0.2886533737182617 s\n"
          ]
        },
        {
          "data": {
            "text/plain": [
              "0.2886533737182617"
            ]
          },
          "execution_count": 14,
          "metadata": {},
          "output_type": "execute_result"
        }
      ],
      "source": [
        "n = 100\n",
        "\n",
        "x = np.arange(n, dtype=np.float64)\n",
        "distout=[]\n",
        "labelsc=[]\n",
        "a=[]\n",
        "for (columnName, columnData) in ret1.iteritems():\n",
        "  histogram, bins = np.histogram(columnData, bins=n, range=(0, 1), density=True)\n",
        "  a.append(histogram)\n",
        "  labelsc.append(columnName)\n",
        "\n",
        "A = np.vstack((a)).T\n",
        "M = ot.utils.dist0(n)\n",
        "M /= M.max()\n",
        "\n",
        "reg = 1e-3\n",
        "\n",
        "ot.tic()\n",
        "bary_wass2_c1 = ot.bregman.barycenter(A, M, reg, verbose=False)\n",
        "ot.toc()"
      ]
    },
    {
      "cell_type": "code",
      "execution_count": null,
      "metadata": {
        "colab": {
          "base_uri": "https://localhost:8080/"
        },
        "id": "IF2N12OU8nWw",
        "outputId": "0584265f-53f7-467c-b977-288f263881ec"
      },
      "outputs": [
        {
          "data": {
            "text/plain": [
              "(6,)"
            ]
          },
          "execution_count": 15,
          "metadata": {},
          "output_type": "execute_result"
        }
      ],
      "source": [
        "cols=ret1.columns\n",
        "cols.shape"
      ]
    },
    {
      "cell_type": "code",
      "execution_count": null,
      "metadata": {
        "id": "ZoHs92C38nWw"
      },
      "outputs": [],
      "source": [
        "c=0\n",
        "dik={}\n",
        "for i in labelsc:\n",
        "  dik[i]=A[:, c]\n",
        "  c+=1"
      ]
    },
    {
      "cell_type": "code",
      "execution_count": null,
      "metadata": {
        "colab": {
          "base_uri": "https://localhost:8080/",
          "height": 487
        },
        "id": "Qmt4SeZ68nWy",
        "outputId": "a2b34b0a-6b4a-4b09-bb4b-a2143e23e0e4"
      },
      "outputs": [
        {
          "data": {
            "image/png": "[encoded data removed]",
            "text/plain": [
              "<Figure size 640x480 with 2 Axes>"
            ]
          },
          "metadata": {},
          "output_type": "display_data"
        }
      ],
      "source": [
        "plt.figure(2)\n",
        "plt.clf()\n",
        "\n",
        "plt.subplot(2, 1, 1)\n",
        "for k, v in dik.items():\n",
        "    plt.plot(bins[:-1], v, label=k)  # Use the label parameter to set the plot names\n",
        "    plt.legend()  # Add legend based on the labels\n",
        "\n",
        "plt.subplot(2, 1, 2)\n",
        "plt.plot(bins[:-1], bary_wass2_c1, 'b')\n",
        "\n",
        "plt.tight_layout()\n",
        "plt.show()"
      ]
    },
    {
      "cell_type": "code",
      "execution_count": null,
      "metadata": {
        "id": "VixYawCS8jQg"
      },
      "outputs": [],
      "source": []
    },
    {
      "cell_type": "code",
      "execution_count": null,
      "metadata": {
        "id": "hAzxuzZ38jND"
      },
      "outputs": [],
      "source": []
    },
    {
      "cell_type": "code",
      "execution_count": null,
      "metadata": {
        "id": "NWj_R6kyJRou"
      },
      "outputs": [],
      "source": [
        "sequence=bins\n",
        "distribution=bary_wass2_c1"
      ]
    },
    {
      "cell_type": "code",
      "execution_count": null,
      "metadata": {
        "id": "ewHq4I2qJVuK"
      },
      "outputs": [],
      "source": [
        "tax_synth_c1=random.choices(sequence[:-1], distribution,k=10000)\n",
        "tax_synth_c1=pd.DataFrame(tax_synth_c1)"
      ]
    },
    {
      "cell_type": "code",
      "execution_count": null,
      "metadata": {
        "colab": {
          "base_uri": "https://localhost:8080/",
          "height": 308
        },
        "id": "OU_CBOMcC1Jq",
        "outputId": "65ce97c4-5742-4097-8876-75b459636b63"
      },
      "outputs": [
        {
          "data": {
            "text/plain": [
              "[<matplotlib.lines.Line2D at 0x7d8bcfdb3a30>]"
            ]
          },
          "execution_count": 28,
          "metadata": {},
          "output_type": "execute_result"
        },
        {
          "data": {
            "image/png": "[encoded data removed]",
            "text/plain": [
              "<Figure size 700x300 with 1 Axes>"
            ]
          },
          "metadata": {},
          "output_type": "display_data"
        }
      ],
      "source": [
        "histogram, bins1 = np.histogram(tax_synth_c1, bins=n,  density=True)\n",
        "plt.figure(figsize=(7,3))\n",
        "plt.plot(bins1[:-1], histogram)"
      ]
    },
    {
      "cell_type": "markdown",
      "metadata": {
        "id": "uICSv_sdENWc"
      },
      "source": [
        "##funcs\n"
      ]
    },
    {
      "cell_type": "code",
      "execution_count": null,
      "metadata": {
        "id": "vKbzzXUHFiPJ"
      },
      "outputs": [],
      "source": [
        "# Useful constants definition\n",
        "COLORMAP = 'jet'\n",
        "\n",
        "def get_network_graph2(mtf):\n",
        "    # Build the graph with networkx:\n",
        "    graph = nx.from_numpy_matrix(mtf)\n",
        "\n",
        "    # Loops through the edges to get associate each of them with the\n",
        "    # corresponding Markov transition probability:\n",
        "    weights = [mtf[u,v] for u,v in graph.edges()]\n",
        "    for index, e in enumerate(graph.edges()):\n",
        "        graph[e[0]][e[1]]['weight'] = weights[index]\n",
        "\n",
        "    return graph\n",
        "\n",
        "def compute_network_graph_statistics2(partitions, graph=None, mtf=None):\n",
        "    if (graph is None) and (mtf is not None):\n",
        "        graph = get_network_graph(mtf)\n",
        "\n",
        "    #partitions = community_louvain.best_partition(graph, random_state=1234)\n",
        "    nb_partitions = len(set(partitions.values()))\n",
        "    modularity = community_louvain.modularity(partitions, graph)\n",
        "\n",
        "\n",
        "    diameter = nx.diameter(graph)\n",
        "    node_size = list(nx.clustering(graph, weight='weight').values())\n",
        "    avg_clustering_coeff = np.array(node_size).mean()\n",
        "    density = nx.density(graph)\n",
        "    avg_path_length = nx.average_shortest_path_length(graph, weight='weight', method='dijkstra')\n",
        "\n",
        "    average_degree = nx.average_degree_connectivity(graph)\n",
        "    average_degree = np.mean(list(average_degree.values()))\n",
        "    avg_weighted_degree = nx.average_degree_connectivity(graph, weight='weight')\n",
        "    avg_weighted_degree = np.mean(list(avg_weighted_degree.values()))\n",
        "\n",
        "    statistics = {\n",
        "        'Diameter': diameter,\n",
        "        'Average degree': average_degree,\n",
        "        'Average weighted degree': avg_weighted_degree,\n",
        "        'Density': density,\n",
        "        'Average path length': avg_path_length,\n",
        "        'Average clustering coefficient': avg_clustering_coeff,\n",
        "        'Modularity': modularity,\n",
        "        'Partitions': nb_partitions\n",
        "    }\n",
        "\n",
        "    return statistics\n",
        "\n",
        "def get_modularity_encoding2(graph, colormap=COLORMAP, reversed_cmap=False):\n",
        "\n",
        "    if reversed_cmap == True:\n",
        "        colormap = plt.cm.get_cmap(colormap).reversed()\n",
        "    else:\n",
        "        colormap = plt.cm.get_cmap(colormap)\n",
        "\n",
        "    # Get the node partitions and number of partitions found with the Louvain\n",
        "    # algorithm, as implemented in the `community` package:\n",
        "\n",
        "    partitions = community_louvain.best_partition(graph, random_state=1234)\n",
        "    #####################################\n",
        "\n",
        "    nb_partitions = len(set(partitions.values()))\n",
        "    #print(\"nb_partitions: \",nb_partitions)\n",
        "\n",
        "    # Compute node colors and edges colors for the modularity encoding:\n",
        "    edge_colors = [to_hex(colormap(partitions.get(v)/(nb_partitions - 1))) for u,v in graph.edges()]\n",
        "    node_colors = [partitions.get(node) for node in graph.nodes()]\n",
        "    node_size = list(nx.clustering(graph, weight='weight').values())\n",
        "    node_size = list((node_size - np.min(node_size)) * 2000 + 10)\n",
        "\n",
        "    # Store the encoding to return in a dictionnary:\n",
        "    #print(\"node_colors: \",len(set(node_colors)))\n",
        "\n",
        "    encoding = {\n",
        "        'node_size': node_size,\n",
        "        'edge_color': edge_colors,\n",
        "        'node_color': node_colors\n",
        "    }\n",
        "    return encoding, partitions\n",
        "\n",
        "def foo(w,m,v):\n",
        "\n",
        "  x2=[]\n",
        "  x3=[]\n",
        "  x4=[]\n",
        "  n=len(w)\n",
        "\n",
        "  for j in range(n):\n",
        "    x2.append(v[j]+m[j]**2)\n",
        "    x3.append(pow(m[j],3)+3*m[j]*v[j])\n",
        "    x4.append(pow(m[j],4)+6*m[j]**2*v[j]+3*v[j]**2)\n",
        "\n",
        "  X1=np.dot(w,m)\n",
        "  X2=np.dot(w,x2)\n",
        "  X3=np.dot(w,x3)\n",
        "  X4=np.dot(w,x4)\n",
        "\n",
        "  mu=X1\n",
        "\n",
        "  sig=np.sqrt(np.subtract(X2, mu**2))\n",
        "\n",
        "  sk=(X3-3*X2*X1+2*pow(X1,3))/pow(sig,3)\n",
        "  kur=(X4-4*X3*X1+6*X2*X1**2-3*pow(X1,4))/pow(sig,4)\n",
        "\n",
        "  return [mu, sig, sk, kur]\n",
        "\n",
        "def get_network_graph_map2(timeseries, encoding, colormap=COLORMAP, reversed_cmap=False):\n",
        "\n",
        "    # Get encoding definitions:\n",
        "    node_colors = encoding['node_color']\n",
        "\n",
        "    #print(node_colors)\n",
        "\n",
        "    image_size = len(node_colors)\n",
        "    #print(\"node_colors\",node_colors)\n",
        "    #print(\"np.max(node_colors)\",np.max(node_colors))\n",
        "    partition_color = node_colors / np.max(node_colors)\n",
        "\n",
        "    # Define the color map:\n",
        "    if reversed_cmap == True:\n",
        "        colormap = plt.cm.get_cmap(colormap).reversed()\n",
        "    else:\n",
        "        colormap = plt.cm.get_cmap(colormap)\n",
        "\n",
        "    # Plot each subset of the signal with the color associated to the network\n",
        "    # graph partition it belongs to:\n",
        "    network_graph_map = []\n",
        "    sequences_width = timeseries.shape[0] / image_size\n",
        "\n",
        "    #df=pd.DataFrame([{\"color\": p ,\"value\": k}])\n",
        "\n",
        "    for i in range(image_size):\n",
        "        c = colormap(partition_color[i])\n",
        "\n",
        "        start = int(i * sequences_width)\n",
        "        end = int((i+1) * sequences_width)#-1\n",
        "        data = timeseries.iloc[start:end, :]\n",
        "\n",
        "        current_map = dict()\n",
        "\n",
        "        current_map.update({\n",
        "            'color': c,\n",
        "            'slice': data\n",
        "        })\n",
        "\n",
        "        #print(len(current_map[\"slice\"]))\n",
        "\n",
        "        network_graph_map.append(current_map)\n",
        "\n",
        "    return network_graph_map, node_colors\n",
        "\n",
        "\n",
        "def inversemapAna(ng_map2,colors2):\n",
        "\n",
        "  df=pd.DataFrame(columns=[\"color\",\"value\"])\n",
        "  dout=pd.DataFrame(columns=[\"color\",\"value\"])\n",
        "\n",
        "  #if (len(ng_map2)!=len(colors2)):\n",
        "  #    print(\"ERROR\")\n",
        "\n",
        "  for i in range(len(ng_map2)):\n",
        "      d=ng_map2[i]\n",
        "      p=colors2[i]\n",
        "      slic=d[\"slice\"].values.reshape(-1)\n",
        "\n",
        "      for k in slic:\n",
        "        df=df.append([{\"color\": p ,\"value\": k}], ignore_index=True)\n",
        "\n",
        "  df[\"diff\"]=df[\"value\"]-df[\"value\"].shift(1)\n",
        "  df.drop(df.index[[0]], inplace=True)\n",
        "  df.drop(['value'], axis = 1, inplace=True)\n",
        "  df.rename(columns = {'diff':'value'}, inplace = True)\n",
        "  #print(df)\n",
        "  return df\n"
      ]
    },
    {
      "cell_type": "code",
      "execution_count": null,
      "metadata": {
        "id": "RRZq3w0j8Ts_"
      },
      "outputs": [],
      "source": [
        "def append_df_to_excel(filename, df, sheet_name='Sheet1', startrow=None,\n",
        "                       truncate_sheet=False,\n",
        "                       **to_excel_kwargs):\n",
        "    \"\"\"\n",
        "    Append a DataFrame [df] to existing Excel file [filename]\n",
        "    into [sheet_name] Sheet.\n",
        "    If [filename] doesn't exist, then this function will create it.\n",
        "\n",
        "    Parameters:\n",
        "      filename : File path or existing ExcelWriter\n",
        "                 (Example: '/path/to/file.xlsx')\n",
        "      df : dataframe to save to workbook\n",
        "      sheet_name : Name of sheet which will contain DataFrame.\n",
        "                   (default: 'Sheet1')\n",
        "      startrow : upper left cell row to dump data frame.\n",
        "                 Per default (startrow=None) calculate the last row\n",
        "                 in the existing DF and write to the next row...\n",
        "      truncate_sheet : truncate (remove and recreate) [sheet_name]\n",
        "                       before writing DataFrame to Excel file\n",
        "      to_excel_kwargs : arguments which will be passed to `DataFrame.to_excel()`\n",
        "                        [can be dictionary]\n",
        "\n",
        "    Returns: None\n",
        "    \"\"\"\n",
        "    from openpyxl import load_workbook\n",
        "\n",
        "    # ignore [engine] parameter if it was passed\n",
        "    if 'engine' in to_excel_kwargs:\n",
        "        to_excel_kwargs.pop('engine')\n",
        "\n",
        "    writer = pd.ExcelWriter(filename, engine='openpyxl')\n",
        "\n",
        "    # Python 2.x: define [FileNotFoundError] exception if it doesn't exist\n",
        "    try:\n",
        "        FileNotFoundError\n",
        "    except NameError:\n",
        "        FileNotFoundError = IOError\n",
        "\n",
        "\n",
        "    try:\n",
        "        # try to open an existing workbook\n",
        "        writer.book = load_workbook(filename)\n",
        "\n",
        "        # get the last row in the existing Excel sheet\n",
        "        # if it was not specified explicitly\n",
        "        if startrow is None and sheet_name in writer.book.sheetnames:\n",
        "            startrow = writer.book[sheet_name].max_row\n",
        "\n",
        "        # truncate sheet\n",
        "        if truncate_sheet and sheet_name in writer.book.sheetnames:\n",
        "            # index of [sheet_name] sheet\n",
        "            idx = writer.book.sheetnames.index(sheet_name)\n",
        "            # remove [sheet_name]\n",
        "            writer.book.remove(writer.book.worksheets[idx])\n",
        "            # create an empty sheet [sheet_name] using old index\n",
        "            writer.book.create_sheet(sheet_name, idx)\n",
        "\n",
        "        # copy existing sheets\n",
        "        writer.sheets = {ws.title:ws for ws in writer.book.worksheets}\n",
        "    except FileNotFoundError:\n",
        "        # file does not exist yet, we will create it\n",
        "        pass\n",
        "\n",
        "    if startrow is None:\n",
        "        startrow = 0\n",
        "\n",
        "    # write out the new sheet\n",
        "    df.to_excel(writer, sheet_name, startrow=startrow, **to_excel_kwargs)\n",
        "\n",
        "    # save the workbook\n",
        "    writer.save()"
      ]
    },
    {
      "cell_type": "markdown",
      "metadata": {
        "id": "ZODkO6AhcpCM"
      },
      "source": [
        "##NEU2"
      ]
    },
    {
      "cell_type": "code",
      "execution_count": null,
      "metadata": {
        "id": "E9bs-A761zaR"
      },
      "outputs": [],
      "source": [
        "import numpy as np\n",
        "import networkx as nx\n",
        "from sklearn.preprocessing import normalize\n",
        "from karateclub.estimator import Estimator\n",
        "\n",
        "class NEU2(Estimator):\n",
        "\n",
        "    def __init__(self, L1: float = 0.5, L2: float = 0.25, T: int = 1, seed: int = 42):\n",
        "        self.iterations = T\n",
        "        self.L1 = L1\n",
        "        self.L2 = L2\n",
        "        self.seed = seed\n",
        "\n",
        "    def _normalize_embedding(self, original_embedding):\n",
        "        norms = np.linalg.norm(original_embedding, axis=1)\n",
        "        normalized_embedding = (original_embedding.T / norms).T\n",
        "        return normalized_embedding\n",
        "\n",
        "    def _update_embedding(self, graph, original_embedding):\n",
        "        embedding = self._normalize_embedding(original_embedding)\n",
        "        adjacency = nx.adjacency_matrix(graph, nodelist=range(graph.number_of_nodes()))\n",
        "        normalized_adjacency = normalize(adjacency, norm=\"l1\", axis=1)\n",
        "        for _ in range(self.iterations):\n",
        "            embedding = (\n",
        "                embedding\n",
        "                + self.L1 * (normalized_adjacency @ embedding)\n",
        "                + self.L2 * (normalized_adjacency @ (normalized_adjacency @ embedding))\n",
        "            )\n",
        "        return embedding\n",
        "\n",
        "    def fit(self, graph: nx.classes.graph.Graph, features):\n",
        "        self._set_seed()\n",
        "        graph = self._check_graph(graph)\n",
        "\n",
        "        #print(features)\n",
        "\n",
        "        self.model = ASNE()\n",
        "        self.model.fit(graph, features)\n",
        "        original_embedding = self.model.get_embedding()\n",
        "        self._embedding = self._update_embedding(graph, original_embedding)\n",
        "\n",
        "\n",
        "    def get_embedding(self) -> np.array:\n",
        "        return self._embedding"
      ]
    },
    {
      "cell_type": "markdown",
      "metadata": {
        "id": "9Hu-4h3tK-of"
      },
      "source": [
        "##Embedding functions and generation C1"
      ]
    },
    {
      "cell_type": "code",
      "execution_count": null,
      "metadata": {
        "id": "XK-c_QytJyc4"
      },
      "outputs": [],
      "source": [
        "def createEmbedding1(out, tax_synth, pos):\n",
        "    strategies=[\"natural\",\"horizontal\"]\n",
        "    r = tax_synth.values[:,pos]#######################\n",
        "    klist=range(1, 101, 1)\n",
        "    models=[ASNE(), Diff2Vec(), GraphWave()]\n",
        "    clus=pd.DataFrame()\n",
        "    returns=pd.DataFrame(tax_synth.values[:,pos])\n",
        "    col=[]\n",
        "    #out=pd.DataFrame()\n",
        "    features=sparse.coo_matrix(np.array(r))\n",
        "\n",
        "    for model in models:\n",
        "      for strategy in strategies:\n",
        "\n",
        "        if (strategy==\"natural\"):\n",
        "          g = NaturalVG(directed=None,weighted=None).build(r)\n",
        "        elif (strategy==\"horizontal\"):\n",
        "          g=HorizontalVG(directed=None,weighted=None).build(r)\n",
        "        graph= g.as_networkx()\n",
        "\n",
        "        if (\"ASNE\" in str(model)):\n",
        "          model.fit(graph, features)\n",
        "        else:\n",
        "          model.fit(graph)\n",
        "\n",
        "        namemodel=find_between_r( str(model), \".\", \" object at\" )\n",
        "        embedding=model.get_embedding()\n",
        "        print(model,strategy)\n",
        "\n",
        "        np.savetxt(\"/content/drive/MyDrive/Mari/Paper6/helpers/ctot_embedding_bins\"+str(n)+\"_\"+namemodel+\"_\"+strategy, embedding)"
      ]
    },
    {
      "cell_type": "code",
      "execution_count": null,
      "metadata": {
        "id": "ylbasj6kM0i1"
      },
      "outputs": [],
      "source": [
        "def createEmbedding2(out, tax_synth, pos):\n",
        "  strategies=[\"natural\",\"horizontal\"]\n",
        "  r = tax_synth.values[:,pos]\n",
        "  klist=range(1, 101, 1)\n",
        "\n",
        "  models=[\"ASNE\", \"Diff2Vec\", \"GraphWave\"]\n",
        "\n",
        "  clus=pd.DataFrame()\n",
        "  returns=pd.DataFrame(tax_synth.values[:,pos])\n",
        "  col=[]\n",
        "  #out=pd.DataFrame()\n",
        "  features=sparse.coo_matrix(np.array(r))\n",
        "\n",
        "  for modelpoint in models:\n",
        "    for strategy in strategies:\n",
        "      if (strategy==\"natural\"):\n",
        "        g = NaturalVG(directed=None,weighted=None).build(r)\n",
        "      elif (strategy==\"horizontal\"):\n",
        "        g=HorizontalVG(directed=None,weighted=None).build(r)\n",
        "      graph= g.as_networkx()\n",
        "\n",
        "      if (modelpoint==\"ASNE\"):\n",
        "        model=NEU2()\n",
        "        model.fit(graph, features)\n",
        "        modellabel=\"NEU_ASNE\"\n",
        "      elif (modelpoint==\"Diff2Vec\"):\n",
        "        model=NEU()\n",
        "        model.fit(graph, Diff2Vec())\n",
        "        modellabel=\"NEU_Diff2Vec\"\n",
        "      elif (modelpoint==\"GraphWave\"):\n",
        "        model=NEU()\n",
        "        model.fit(graph, GraphWave())\n",
        "        modellabel=\"NEU_GraphWave\"\n",
        "\n",
        "      embedding=model.get_embedding()\n",
        "      print(modelpoint,strategy)\n",
        "      np.savetxt(\"/content/drive/MyDrive/Mari/Paper6/helpers/ctot_embedding_bins\"+str(n)+\"_\"+modellabel+\"_\"+strategy, embedding)\n"
      ]
    },
    {
      "cell_type": "code",
      "execution_count": null,
      "metadata": {
        "colab": {
          "background_save": true,
          "base_uri": "https://localhost:8080/"
        },
        "id": "lQxXqdevIanw",
        "outputId": "491c965b-1684-49a0-bd3d-7a005be1a568"
      },
      "outputs": [
        {
          "name": "stdout",
          "output_type": "stream",
          "text": [
            "<karateclub.node_embedding.attributed.asne.ASNE object at 0x7d8bcfdfbdf0> natural\n",
            "<karateclub.node_embedding.attributed.asne.ASNE object at 0x7d8bcfdfbdf0> horizontal\n"
          ]
        },
        {
          "name": "stderr",
          "output_type": "stream",
          "text": [
            "WARNING:gensim.models.word2vec:Both hierarchical softmax and negative sampling are activated. This is probably a mistake. You should set either 'hs=0' or 'negative=0' to disable one of them. \n"
          ]
        },
        {
          "name": "stdout",
          "output_type": "stream",
          "text": [
            "<karateclub.node_embedding.neighbourhood.diff2vec.Diff2Vec object at 0x7d8bcfdfb520> natural\n"
          ]
        },
        {
          "name": "stderr",
          "output_type": "stream",
          "text": [
            "WARNING:gensim.models.word2vec:Both hierarchical softmax and negative sampling are activated. This is probably a mistake. You should set either 'hs=0' or 'negative=0' to disable one of them. \n"
          ]
        },
        {
          "name": "stdout",
          "output_type": "stream",
          "text": [
            "<karateclub.node_embedding.neighbourhood.diff2vec.Diff2Vec object at 0x7d8bcfdfb520> horizontal\n"
          ]
        },
        {
          "name": "stderr",
          "output_type": "stream",
          "text": [
            "2024-01-02 12:00:05,185:[WARNING](pygsp.graphs.graph.check_weights): The main diagonal of the weight matrix is not 0!\n",
            "WARNING:pygsp.graphs.graph:The main diagonal of the weight matrix is not 0!\n"
          ]
        },
        {
          "name": "stdout",
          "output_type": "stream",
          "text": [
            "<karateclub.node_embedding.structural.graphwave.GraphWave object at 0x7d8bcfdfbca0> natural\n"
          ]
        },
        {
          "name": "stderr",
          "output_type": "stream",
          "text": [
            "2024-01-02 12:19:06,823:[WARNING](pygsp.graphs.graph.check_weights): The main diagonal of the weight matrix is not 0!\n",
            "WARNING:pygsp.graphs.graph:The main diagonal of the weight matrix is not 0!\n"
          ]
        },
        {
          "name": "stdout",
          "output_type": "stream",
          "text": [
            "<karateclub.node_embedding.structural.graphwave.GraphWave object at 0x7d8bcfdfbca0> horizontal\n",
            "ASNE natural\n",
            "ASNE horizontal\n"
          ]
        },
        {
          "name": "stderr",
          "output_type": "stream",
          "text": [
            "WARNING:gensim.models.word2vec:Both hierarchical softmax and negative sampling are activated. This is probably a mistake. You should set either 'hs=0' or 'negative=0' to disable one of them. \n"
          ]
        },
        {
          "name": "stdout",
          "output_type": "stream",
          "text": [
            "Diff2Vec natural\n"
          ]
        },
        {
          "name": "stderr",
          "output_type": "stream",
          "text": [
            "WARNING:gensim.models.word2vec:Both hierarchical softmax and negative sampling are activated. This is probably a mistake. You should set either 'hs=0' or 'negative=0' to disable one of them. \n"
          ]
        },
        {
          "name": "stdout",
          "output_type": "stream",
          "text": [
            "Diff2Vec horizontal\n"
          ]
        },
        {
          "name": "stderr",
          "output_type": "stream",
          "text": [
            "2024-01-02 12:56:44,897:[WARNING](pygsp.graphs.graph.check_weights): The main diagonal of the weight matrix is not 0!\n",
            "WARNING:pygsp.graphs.graph:The main diagonal of the weight matrix is not 0!\n"
          ]
        },
        {
          "name": "stdout",
          "output_type": "stream",
          "text": [
            "GraphWave natural\n"
          ]
        },
        {
          "name": "stderr",
          "output_type": "stream",
          "text": [
            "2024-01-02 13:14:47,926:[WARNING](pygsp.graphs.graph.check_weights): The main diagonal of the weight matrix is not 0!\n",
            "WARNING:pygsp.graphs.graph:The main diagonal of the weight matrix is not 0!\n"
          ]
        },
        {
          "name": "stdout",
          "output_type": "stream",
          "text": [
            "GraphWave horizontal\n"
          ]
        }
      ],
      "source": [
        "out=pd.DataFrame()\n",
        "pos=0  ####\n",
        "createEmbedding1(out, tax_synth_c1, pos)\n",
        "out=pd.DataFrame()\n",
        "createEmbedding2(out, tax_synth_c1, pos)"
      ]
    },
    {
      "cell_type": "code",
      "execution_count": null,
      "metadata": {
        "id": "yW0N1xVkFF2x"
      },
      "outputs": [],
      "source": []
    },
    {
      "cell_type": "markdown",
      "metadata": {
        "id": "2blOlokhScUw"
      },
      "source": [
        "##Main script to compute GMM leveraging the embedding"
      ]
    },
    {
      "cell_type": "code",
      "execution_count": null,
      "metadata": {
        "colab": {
          "background_save": true
        },
        "id": "9klQoeDuKitN"
      },
      "outputs": [],
      "source": [
        "def script(out, tax_synth, pos):\n",
        "    strategies=[\"natural\",\"horizontal\"]\n",
        "    r = tax_synth.values[:,pos]\n",
        "    klist=range(1, 101, 1)\n",
        "    models=[\"ASNE\", \"Diff2Vec\", \"GraphWave\",\"NEU_ASNE\", \"NEU_Diff2Vec\",\"NEU_GraphWave\"]\n",
        "    clus=pd.DataFrame()\n",
        "    returns=pd.DataFrame(tax_synth.values[:,pos])\n",
        "    col=[]\n",
        "    features=sparse.coo_matrix(np.array(r))\n",
        "\n",
        "    for model in models:\n",
        "      for strategy in strategies:\n",
        "        fname=\"/content/drive/MyDrive/Mari/Paper6/helpers/ctot_embedding_bins\"+str(n)+\"_\"+model+\"_\"+strategy\n",
        "        embedding=np.loadtxt(fname)\n",
        "\n",
        "        for k in klist:\n",
        "            clusters = tomato(points=embedding, k=k)\n",
        "\n",
        "            num_clusters=len(set(clusters))\n",
        "\n",
        "            clus=pd.DataFrame(clusters,columns=[\"cluster\"])\n",
        "            clus.drop(clus.index[0], inplace=True)\n",
        "\n",
        "            colors=list(range(0,num_clusters))\n",
        "\n",
        "            returnCluster=clus.join(returns)\n",
        "\n",
        "            if (num_clusters<=5):\n",
        "                tag_df=returns\n",
        "                tag_df=pd.DataFrame(tag_df.values)\n",
        "\n",
        "                means=[]\n",
        "                precisions=[]\n",
        "                nk=[]\n",
        "\n",
        "                for x in colors:\n",
        "                  a=returnCluster[returnCluster.cluster==x]\n",
        "                  means.append(np.mean(a.values))\n",
        "                  precisions.append(1/pow(np.std(a.values),2))\n",
        "                  nk.append(len(a)/(len(returnCluster)))\n",
        "\n",
        "                precisions=np.array(precisions).reshape(-1,1,1)\n",
        "                means=np.array(means).reshape(-1,1)\n",
        "\n",
        "                grid=pd.DataFrame(columns=[\"idxs\",\"bic\",\"comp\",\"weights\",\"means\",\"covariances\"])\n",
        "                grid.set_index(\"idxs\")\n",
        "\n",
        "                itemorig={\"1\":tag_df.mean(),\n",
        "                      \"2\":tag_df.std(),\n",
        "                      \"3\":skew(tag_df),\n",
        "                      \"4\":kurtosis(tag_df)+3\n",
        "                }\n",
        "\n",
        "                #XY = tag_df.values.reshape(-1, 1)\n",
        "                XY = tag_df.values\n",
        "                gmm = GaussianMixture(n_components=len(nk), weights_init=nk, means_init=means, precisions_init=precisions, covariance_type='full').fit(XY)\n",
        "\n",
        "                nosim=foo(gmm.weights_.reshape(-1),gmm.means_.reshape(-1),gmm.covariances_.reshape(-1))\n",
        "\n",
        "                gmmid=str(uuid.uuid4())\n",
        "\n",
        "                grid={\n",
        "                      'idxs':gmmid,\n",
        "                      #'comptomato':num_clusters,\n",
        "                      'comps':gmm.n_components,\n",
        "                      'k':k,\n",
        "                      'embedding': model,\n",
        "                      'strategy': strategy,\n",
        "                      'bic':gmm.bic(XY) ,\n",
        "                      'weights':gmm.weights_.reshape(-1),\n",
        "                      'means':gmm.means_.reshape(-1),\n",
        "                      'covariances':gmm.covariances_.reshape(-1),\n",
        "\n",
        "                      'orig_M1':itemorig[\"1\"],\n",
        "                      'orig_M2':itemorig[\"2\"],\n",
        "                      'orig_M3':itemorig[\"3\"],\n",
        "                      'orig_M4':itemorig[\"4\"],\n",
        "\n",
        "                      'GMM_M1':nosim[0] ,\n",
        "                      'GMM_M2':nosim[1] ,\n",
        "                      'GMM_M3':nosim[2] ,\n",
        "                      'GMM_M4':nosim[3] ,\n",
        "\n",
        "                      'absdiff_M1':abs(itemorig[\"1\"]-nosim[0]),\n",
        "                      'absdiff_M2':abs(itemorig[\"2\"]-nosim[1]),\n",
        "                      'absdiff_M3':abs(itemorig[\"3\"]-nosim[2]),\n",
        "                      'absdiff_M4':abs(itemorig[\"4\"]-nosim[3]),\n",
        "\n",
        "                      'eps1':100*abs((itemorig[\"1\"]-nosim[0])/(itemorig[\"1\"])),\n",
        "                      'eps2':100*abs((itemorig[\"2\"]-nosim[1])/(itemorig[\"2\"])),\n",
        "                      'eps3':100*abs((itemorig[\"3\"]-nosim[2])/(itemorig[\"3\"])),\n",
        "                      'eps4':100*abs((itemorig[\"4\"]-nosim[3])/(itemorig[\"4\"]))\n",
        "                }\n",
        "\n",
        "                out = out.append(grid, ignore_index=True)\n",
        "\n",
        "                print(k,model, strategy,\"#\")\n",
        "    out.to_excel(\"/content/drive/MyDrive/Mari/Paper6/out/ctot_res_\"+str(n)+\".xlsx\")"
      ]
    },
    {
      "cell_type": "code",
      "execution_count": null,
      "metadata": {
        "id": "WF8Y5j-oSnkF"
      },
      "outputs": [],
      "source": [
        "out=pd.DataFrame()\n",
        "pos=0\n",
        "script(out, tax_synth_c1, pos)"
      ]
    },
    {
      "cell_type": "code",
      "execution_count": null,
      "metadata": {
        "id": "5Kul383LFSfP"
      },
      "outputs": [],
      "source": []
    },
    {
      "cell_type": "code",
      "execution_count": null,
      "metadata": {
        "id": "vkHJQCyzFfjS"
      },
      "outputs": [],
      "source": []
    }
  ],
  "metadata": {
    "colab": {
      "provenance": [],
      "authorship_tag": "ABX9TyMjBhcLQ3RNGhv2tjFua82P",
      "include_colab_link": true
    },
    "kernelspec": {
      "display_name": "Python 3",
      "name": "python3"
    },
    "language_info": {
      "name": "python"
    }
  },
  "nbformat": 4,
  "nbformat_minor": 0
}